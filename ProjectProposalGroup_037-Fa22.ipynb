{
 "cells": [
  {
   "cell_type": "markdown",
   "metadata": {},
   "source": [
    "# COGS 108 - Final Project Proposal"
   ]
  },
  {
   "cell_type": "markdown",
   "metadata": {},
   "source": [
    "# Names\n",
    "\n",
    "- Ricardo Sedano\n",
    "- Kayla Luong\n",
    "- Wilson Low\n",
    "- Juna Kim"
   ]
  },
  {
   "cell_type": "markdown",
   "metadata": {},
   "source": [
    "# Research Question"
   ]
  },
  {
   "cell_type": "markdown",
   "metadata": {},
   "source": [
    "How might different transportation methods, as measured by the length of commuting time per method, impact college academic achievement across different U.S. cities, as measured by GPA?"
   ]
  },
  {
   "cell_type": "markdown",
   "metadata": {},
   "source": [
    "## Background and Prior Work"
   ]
  },
  {
   "cell_type": "markdown",
   "metadata": {},
   "source": [
    "\n",
    "For college students across the United States, their commute to campus is a significant chunk of their everyday life. There are those who live on campus in the dorms, while others live off-campus in houses and apartments. Between these varying housing situations, students utilize a wide range of transportation methods to commute to campus; some of the main methods include walking, biking/scootering, driving, and taking public transportation. Depending on the method of transportation, students may be required to wake up earlier and plan ahead to get to their classes on time, potentially sacrificing their physical health. According to a study at the University of Rhode Island, 74% of students at public four year institutions commute to campus [^weiss], which is a majority of students who do not live on campus and lack the convenient time and distance to their classes.  Factors such as the length of time, physical burden, and distance may impact a student’s ability and frequency of attending classes. In turn, the method of transportation may negatively affect a student’s academic performance due to loss of sleep and/or more physically demanding commutes. \n",
    "\n",
    "Prior research has yielded mixed results on this subject. For example, a study by Martijn Kobus found a statistically significant negative relationship between average grades and commute time [^kobus]. Meanwhile, a study by Danielle Nelson hypothesized a negative relationship between distance from campus that commuter students needed to drive and academic performance measured by GPA, but were unable to find results that support this statement [^balabanian]. In both studies however, the researchers focused on one mode of transportation; Kobus focused on public transport while Nelson focused on driving. \n",
    "\n",
    "Other studies that instead analyzed differences between transportation modes yielded even more mixed results. Bakrad Balabanian found a negative association between commute time/distance and academic performance, but found no significant association between different transportation methods and academic performance [^nelson]. Qianying Wu on the other hand found significant associations between some transportation methods and GPA, and no associations with other transportation methods [^wu]. \n",
    "\n",
    "Given these contradictory results, we seek to essentially combine these different studies about different modes of transportation and commute time/distance to analyze and explore their effects on academic performance in a multifaceted manner. Through this data analysis, we would like to understand whether students should be provided more housing opportunities on or closer to campus in order to optimize academic performance, rather than burdening students with the additional physical and mental load of long commutes to get to their classes.\n",
    "\n",
    "[^weiss]: Weiss, Marissa, \"THE COLLEGE EXPERIENCE OF COMMUTER STUDENTS AND THE CONCEPTS OF PLACE AND SPACE\" (2014). Open Access Dissertations. Paper 215. https://digitalcommons.uri.edu/oa_diss/215  \n",
    "[^kobus]: Kobus, Martijn B. W. et al. \"Student commute time, university presence and academic achievement.\" Regional Science and Urban Economics 52 (2015): 129-140. https://www.sciencedirect.com/science/article/pii/S0166046215000216 \n",
    "[^balabanian]: Balabanian, Bakrad. \"Transportation and Its Effect on Student Performance\". 2020: n. pag. Print. Master Thesis in Geographical Information Science. http://lup.lub.lu.se/student-papers/record/9032279 \n",
    "[^nelson]: Nelson, Danielle & Misra, Kaustav & Sype, Gail & Mackie, Wayne. (2016). An Analysis Of The Relationship Between Distance From Campus And Gpa Of Commuter Students. Journal of International Education Research (JIER). 12. 37. 10.19030/jier.v12i1.9565. https://www.researchgate.net/publication/297729268_An_Analysis_Of_The_Relationship_Between_Distance_From_Campus_And_Gpa_Of_Commuter_Students  \n",
    "[^wu]: Wu, Qianying. \"Associations between travel behavior and the academic performance of university students.\" (2014). https://www.semanticscholar.org/paper/Associations-between-travel-behavior-and-the-of-Wu/8766a56612fc0221a467ec1a9bafd7339b92cbb0 \n"
   ]
  },
  {
   "cell_type": "markdown",
   "metadata": {},
   "source": [
    "# Hypothesis\n"
   ]
  },
  {
   "cell_type": "markdown",
   "metadata": {},
   "source": [
    "We predict that there will be a negative correlation between the commute time for U.S. college students and academic achievement across all transportation methods. We define “commute time” as the minutes it takes to reach campus and “academic achievement” as the GPA on a 4 point scale. Our reasoning is that higher commute time will discourage students from attending class and thereby negatively impact their learning ability and academic performance.\n",
    "\n",
    "In addition, we predict that there is a positive correlation between the rate of GPA decreasing and commute time with slower methods, such as walking and biking, as compared to faster commute methods such as driving and public transportation. \n",
    "\n",
    "Slower commute methods such as walking and biking will require college students to wake up earlier and potentially sacrifice sleep in order to make it to their classes on time. These methods also require them to exert more physical effort in their commute compared to those who drive or take public transportation to campus. In contrast, faster commute methods such as driving and public transportation will be less likely to require students to wake up earlier.\n"
   ]
  },
  {
   "cell_type": "markdown",
   "metadata": {},
   "source": [
    "# Data"
   ]
  },
  {
   "cell_type": "markdown",
   "metadata": {},
   "source": [
    "The ideal dataset for the hypothesis would include an individual variable for each commute time per distance traveled for each transportation method, measured by minutes per fixed distance. Additionally, the dataset would include the GPA variable, measured on a 4-point scale. These variables would be stored on a scatter plot graph, with points being representations of individual students’ GPA on one axis, and their time per fixed distance on the remaining axis. Based on the data plotted, we can calculate an average GPA change per time rate for each of the transportation methods. The variables would include Walking rate, Bicycle rate, Public Transportation rate, Driving rate, and GPA decrease. \n",
    "\n",
    "Along each of the transportation variables, we would have an observation based on speed (time per distance) per method, as well as an observation for the corresponding GPA decrease. This would result in a total of 8 observations we can use to compare to our hypothesis. Our observations would ideally follow the hypothesis, where walking would have a slower speed and then, would impact GPA decrease greater. To allow for a comprehensive view of each transportation method, as well as to allow for GPA to be accurately calculated and recorded, the observations taken would be based on data collected at the end of a grading period, such as a quarter or semester. \n"
   ]
  },
  {
   "cell_type": "markdown",
   "metadata": {},
   "source": [
    "# Ethics & Privacy"
   ]
  },
  {
   "cell_type": "markdown",
   "metadata": {},
   "source": [
    "In our project proposal, we sought to uphold ethics & privacy concerns according to Deon's Ethics Checklist. Some of these issues would include maintaining informed consent in data collection, mitigating collection bias, and including enough relevant stakeholders to have an honest representation of our subject group. \n",
    "\n",
    "To protect participant privacy, we plan on collecting our data from datasets from publicly available sources such as Kaggle, the U.S. Department of Education, and ​​the U.S. Bureau of Statistics. This helps us steer clear from privacy breaches because identities of these students will be kept anonymous, and will fully be based off of public record. We also hope that by using these public data collections regarding college student demographic, we will be able to gather a broader range of data. This will help mitigate composition bias, so we can have a more equitable analysis. \n",
    "\n",
    "We do anticipate a few potential biases in our dataset. In particular, our project focuses on college students across different U.S. cities, so areas of the U.S. with higher education enrollment will be underrepresented in our analysis. Throughout our project, we will request for feedback from peers and the instructor team to be able to detect and resolve specific biases and other ethics/privacy concerns."
   ]
  },
  {
   "cell_type": "markdown",
   "metadata": {},
   "source": [
    "# Team Expectations "
   ]
  },
  {
   "cell_type": "markdown",
   "metadata": {},
   "source": [
    "\n",
    "* _Maintaining communication_\n",
    "    * _Primary form of communication will be on Messenger group chat._\n",
    "    * _Respond in a timely manner (i.e. within a day)._\n",
    "    * _Meetings ideally in person at Geisel Library, otherwise virtually on Zoom if more convenient._\n",
    "* _Collaborative workspace_\n",
    "    * _Communicate and share ideas openly to pass along all necessary information._\n",
    "    * _Incorporate feedback and ideas from all team members; participate in open discussions throughout the project to check in and hear from everyone._\n",
    "    * _Divide work as necessary._\n",
    "* _Deadline expectations_\n",
    "    * _Set clear expectations on deadlines, so teammates can meet and exceed expectations._\n",
    "    * _Let teammates know if you have any concerns, schedule clashes, etc. in the group chat. We will be flexible :)_\n"
   ]
  },
  {
   "cell_type": "markdown",
   "metadata": {},
   "source": [
    "# Project Timeline Proposal"
   ]
  },
  {
   "cell_type": "markdown",
   "metadata": {},
   "source": [
    "\n",
    "| Meeting Date  | Meeting Time| Completed Before Meeting  | Discuss at Meeting |\n",
    "|---|---|---|---|\n",
    "| Sat 10/22  |  11 AM | N/A, first meeting  | Discuss project research scope, narrow down our research question to a particular domain. | \n",
    "| Sun 10/23  |  12 PM |  N/A | Solidify research question and hypothesis. Set team expectations. Divide up remaining proposal sections. | \n",
    "| Tues 10/25  | 8 PM  | Finish individual proposal sections, Submitted Research Proposal on Monday, 10/24  | Receive feedback on our research proposal. Edit according to feedback and refine research question and hypothesis.   |\n",
    "| Sun 10/30  | 12 PM  | Research further into chosen datasets | Find applicable datasets to use for the project.   |\n",
    "| Tues 11/1  | 8 PM  | Write descriptions for each found dataset (at least 2 per person) - Name - Link to dataset - Number of observations - Written description of dataset | Clean and preprocess data as needed. Answer questions\n",
    "| Sun 11/6  | 12 PM  | Finish individual sections as decided by prior meeting.| Finalize checkpoint #1 content |\n",
    "| Tues 11/8  | 8 PM  | Submitted Checkpoint #1 on Monday, 11/7 | Conduct preliminary data analysis and results. Generate early data visualizations. |\n",
    "| Sun 11/13  | 12 PM  | Finish individual sections as decided by prior meeting. | Answer questions EDA - What distributions do your variables take? - Are there any outliers? - Relationship between variables? |\n",
    "| Tues 11/15  | 8 PM  | Finish individual sections as decided by prior meeting. | Continue data analysis and documenting results. |\n",
    "| Sun 11/20  | 12 PM  | Finish individual sections as decided by prior meeting. | Finalize checkpoint #2 content |\n",
    "| Tues 11/22  | 8 PM  | Submitted Checkpoint #2 on Monday, 11/21 | Begin putting together the final report. Start writing analysis and data visualization, ethics & privacy, and conclusion sections |\n",
    "| Sun 11/27  | 12 PM  | Rough draft of analysis and data visualization, ethics & privacy, and conclusion sections. | Edit/finalize analysis and data visualization, ethics & privacy, and conclusion sections |\n",
    "| Tues 11/29  | 8 PM  | Final draft of analysis and data visualization, ethics & privacy, and conclusion sections. | Write video script and create presentation slides if necessary |\n",
    "| Sun 12/4  | 12 PM  | Finish script and presentation slide. | Film video |\n",
    "| Tues 12/6  | 8 PM  | Edit video | Finishing touches on the final project. Submit the final report & video by the end of the meeting. |"
   ]
  },
  {
   "cell_type": "code",
   "execution_count": null,
   "metadata": {},
   "outputs": [],
   "source": []
  }
 ],
 "metadata": {
  "kernelspec": {
   "display_name": "Python 3",
   "language": "python",
   "name": "python3"
  },
  "language_info": {
   "codemirror_mode": {
    "name": "ipython",
    "version": 3
   },
   "file_extension": ".py",
   "mimetype": "text/x-python",
   "name": "python",
   "nbconvert_exporter": "python",
   "pygments_lexer": "ipython3",
   "version": "3.8.8"
  }
 },
 "nbformat": 4,
 "nbformat_minor": 2
}
